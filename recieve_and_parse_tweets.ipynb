{
 "cells": [
  {
   "cell_type": "code",
   "execution_count": null,
   "metadata": {},
   "outputs": [],
   "source": [
    "import zmq\n",
    "import datetime\n",
    "import sqlite3\n",
    "import json"
   ]
  },
  {
   "cell_type": "code",
   "execution_count": null,
   "metadata": {},
   "outputs": [],
   "source": [
    "dbname = 'tweets.sqlite'\n",
    "\n",
    "table_create_sql = '''\n",
    "CREATE TABLE IF NOT EXISTS tweets (\n",
    "logtime DATETIME,\n",
    "createdat DATETIME,\n",
    "tweetid BIGINT,\n",
    "tweettext TEXT,\n",
    "source TEXT,\n",
    "userid TEXT,\n",
    "quotecount BIGINT,\n",
    "replycount BIGINT,\n",
    "retweetcount BIGINT,\n",
    "favoritecount BIGINT,\n",
    "rawtweet VARCHAR\n",
    ")\n",
    "'''"
   ]
  },
  {
   "cell_type": "code",
   "execution_count": null,
   "metadata": {},
   "outputs": [],
   "source": [
    "conn = sqlite3.connect(dbname)\n",
    "conn.execute(table_create_sql)\n",
    "conn.close()"
   ]
  },
  {
   "cell_type": "code",
   "execution_count": null,
   "metadata": {},
   "outputs": [],
   "source": [
    "def parse_tweet(tweet):\n",
    "    '''\n",
    "    Read in a tweet and parse out desired fields.\n",
    "    '''\n",
    "    try:\n",
    "        # logtime is time of tweet capture\n",
    "        logtime = datetime.datetime.now()\n",
    "\n",
    "        createdat = datetime.datetime.strptime(tweet['created_at'],\n",
    "                                               '%a %b %d %H:%M:%S %z %Y')\n",
    "\n",
    "        tweetid = tweet['id']\n",
    "\n",
    "        tweettext = tweet['text']\n",
    "\n",
    "        source = tweet['source']\n",
    "\n",
    "        userid = tweet['user']['id']\n",
    "\n",
    "        quotecount = tweet['quote_count']\n",
    "\n",
    "        replycount = tweet['reply_count']\n",
    "\n",
    "        retweetcount = tweet['retweet_count']\n",
    "\n",
    "        favoritecount = tweet['favorite_count']\n",
    "        \n",
    "        rawtweet = json.dumps(tweet)\n",
    "\n",
    "        parsed_tweet = [logtime, createdat, tweetid, tweettext,\n",
    "                        source, userid, quotecount, replycount,\n",
    "                        retweetcount, favoritecount, rawtweet]\n",
    "\n",
    "        return parsed_tweet\n",
    "    \n",
    "    except:\n",
    "        pass"
   ]
  },
  {
   "cell_type": "code",
   "execution_count": null,
   "metadata": {},
   "outputs": [],
   "source": [
    "def write_tweet_to_db(parsed_tweet, db):\n",
    "    '''\n",
    "    Write the parsed tweet to the databse\n",
    "    '''\n",
    "    conn = sqlite3.connect(db)\n",
    "    cur = conn.cursor()\n",
    "    \n",
    "    insert_sql = \"\"\"\n",
    "    INSERT INTO tweets VALUES (?,?,?,?,?,?,?,?,?,?,?)\n",
    "    \"\"\"\n",
    "    \n",
    "    cur.execute(insert_sql, parsed_tweet)\n",
    "    \n",
    "    conn.commit()\n",
    "    conn.close()"
   ]
  },
  {
   "cell_type": "code",
   "execution_count": null,
   "metadata": {},
   "outputs": [],
   "source": [
    "context = zmq.Context()\n",
    "socket = context.socket(zmq.SUB)\n",
    "socket.connect('tcp://0.0.0.0:5555')\n",
    "socket.setsockopt_string(zmq.SUBSCRIBE, '')"
   ]
  },
  {
   "cell_type": "code",
   "execution_count": null,
   "metadata": {},
   "outputs": [],
   "source": [
    "while True:\n",
    "    msg = socket.recv_json()\n",
    "    \n",
    "    loaded_msg = json.loads(msg)\n",
    "    \n",
    "    parsed_tweet = parse_tweet(loaded_msg)\n",
    "    \n",
    "    write_tweet_to_db(parsed_tweet, dbname)"
   ]
  },
  {
   "cell_type": "code",
   "execution_count": null,
   "metadata": {},
   "outputs": [],
   "source": []
  },
  {
   "cell_type": "code",
   "execution_count": null,
   "metadata": {},
   "outputs": [],
   "source": []
  },
  {
   "cell_type": "code",
   "execution_count": null,
   "metadata": {},
   "outputs": [],
   "source": []
  },
  {
   "cell_type": "markdown",
   "metadata": {},
   "source": [
    "### for testing"
   ]
  },
  {
   "cell_type": "code",
   "execution_count": null,
   "metadata": {},
   "outputs": [],
   "source": [
    "with open('examples.txt', 'w') as f:\n",
    "    while True:\n",
    "        msg = socket.recv_json()\n",
    "        print(msg)\n",
    "        f.write(msg)       "
   ]
  },
  {
   "cell_type": "code",
   "execution_count": null,
   "metadata": {},
   "outputs": [],
   "source": []
  }
 ],
 "metadata": {
  "kernelspec": {
   "display_name": "Python tw-stream",
   "language": "python",
   "name": "tw-stream"
  },
  "language_info": {
   "codemirror_mode": {
    "name": "ipython",
    "version": 3
   },
   "file_extension": ".py",
   "mimetype": "text/x-python",
   "name": "python",
   "nbconvert_exporter": "python",
   "pygments_lexer": "ipython3",
   "version": "3.7.0"
  }
 },
 "nbformat": 4,
 "nbformat_minor": 2
}
