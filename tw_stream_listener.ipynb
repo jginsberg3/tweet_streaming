{
 "cells": [
  {
   "cell_type": "code",
   "execution_count": null,
   "metadata": {},
   "outputs": [],
   "source": [
    "from tweepy.streaming import StreamListener\n",
    "from tweepy import OAuthHandler\n",
    "from tweepy import Stream\n",
    "\n",
    "import zmq"
   ]
  },
  {
   "cell_type": "code",
   "execution_count": null,
   "metadata": {},
   "outputs": [],
   "source": [
    "# set up ZMQ to publish tweets\n",
    "context = zmq.Context()\n",
    "socket = context.socket(zmq.PUB)\n",
    "socket.bind('tcp://0.0.0.0:5555')"
   ]
  },
  {
   "cell_type": "code",
   "execution_count": null,
   "metadata": {},
   "outputs": [],
   "source": [
    "# create Twitter Stream Listener \n",
    "class LiveStreamListener(StreamListener):\n",
    "    \n",
    "    def on_data(self, data):\n",
    "        # to confirm streamer is listening\n",
    "        #print(data)\n",
    "        \n",
    "        # send data over zmq\n",
    "        socket.send_json(data)\n",
    "        \n",
    "        return True\n",
    "\n",
    "    def on_error(self, status):\n",
    "        print(status)"
   ]
  },
  {
   "cell_type": "code",
   "execution_count": null,
   "metadata": {},
   "outputs": [],
   "source": [
    "# read in the app credentials from external file\n",
    "creds = {}\n",
    "credentials_file = 'credentials-vm1-tw-app'\n",
    "\n",
    "with open(credentials_file, 'r') as f:\n",
    "    for line in f.readlines():\n",
    "        line = line.split(':')\n",
    "        creds[line[0]] = line[1].strip()"
   ]
  },
  {
   "cell_type": "code",
   "execution_count": null,
   "metadata": {},
   "outputs": [],
   "source": [
    "# instantiate listener and set up authentication\n",
    "listener = LiveStreamListener()\n",
    "auth = OAuthHandler(creds['consumer_key'], creds['consumer_secret'])\n",
    "auth.set_access_token(creds['access_token'], creds['access_token_secret'])"
   ]
  },
  {
   "cell_type": "code",
   "execution_count": null,
   "metadata": {},
   "outputs": [],
   "source": [
    "# create stream object\n",
    "stream = Stream(auth, listener)\n",
    "\n",
    "while True:\n",
    "    # filter for just the data you want from the stream\n",
    "    stream.filter(track = ['verizon', 'humanability'])"
   ]
  },
  {
   "cell_type": "code",
   "execution_count": null,
   "metadata": {},
   "outputs": [],
   "source": []
  }
 ],
 "metadata": {
  "kernelspec": {
   "display_name": "Python tw-stream",
   "language": "python",
   "name": "tw-stream"
  },
  "language_info": {
   "codemirror_mode": {
    "name": "ipython",
    "version": 3
   },
   "file_extension": ".py",
   "mimetype": "text/x-python",
   "name": "python",
   "nbconvert_exporter": "python",
   "pygments_lexer": "ipython3",
   "version": "3.7.0"
  }
 },
 "nbformat": 4,
 "nbformat_minor": 2
}
